{
 "cells": [
  {
   "cell_type": "markdown",
   "id": "67064279-50c0-46c3-9ba0-bce5ebb75543",
   "metadata": {},
   "source": [
    "# PyBank"
   ]
  },
  {
   "cell_type": "code",
   "execution_count": 3,
   "id": "42f829ba-658d-4636-b501-379cbeac7679",
   "metadata": {},
   "outputs": [],
   "source": [
    "# import PyBank financial dataset (budget.data.csv)\n",
    "import csv\n",
    "from pathlib import Path"
   ]
  },
  {
   "cell_type": "code",
   "execution_count": 5,
   "id": "56d5ad0b-5351-425d-bde7-a710f80facc3",
   "metadata": {},
   "outputs": [],
   "source": [
    "# Files to load and output\n",
    "file_to_load = Path(\"budget_data.csv\")\n",
    "file_to_output = Path(\"financial_analysis.txt\")"
   ]
  },
  {
   "cell_type": "code",
   "execution_count": 6,
   "id": "b0e68507-ed0f-4ed1-970c-59a3ea0967d7",
   "metadata": {},
   "outputs": [],
   "source": [
    "# determine the metric variables and lists\n",
    "total_months = 0\n",
    "month_of_change = []\n",
    "net_change_list = []\n",
    "greatest_increase = [\"\", 0]\n",
    "greatest_decrease = [\"\", 9999999999999999999]\n",
    "total_net = 0\n"
   ]
  },
  {
   "cell_type": "code",
   "execution_count": 7,
   "id": "19a1d7ba-5c79-4ecc-9b2e-9c18b3d02716",
   "metadata": {},
   "outputs": [],
   "source": [
    "# Open and read the csv file Read and convert it into a list of dictionaries\n",
    "\n",
    "with open(file_to_load) as financial_data:\n",
    "    reader = csv.reader(financial_data)\n",
    "\n",
    "    # Read the header row\n",
    "    header = next(reader)\n",
    "\n",
    "    # Extract first row to avoid appending to net_change_list\n",
    "    first_row = next(reader)\n",
    "    total_months = total_months + 1\n",
    "    total_net = total_net + int(first_row[1])\n",
    "    previous_net = int(first_row[1])\n",
    "\n",
    "    for row in reader:\n",
    "        \n",
    "        # Calculate total number of months included in the dataset.\n",
    "        total_months = total_months + 1\n",
    "        total_net = total_net + int(row[1])\n",
    "\n",
    "        # Calculate the net total amount of Profit/Losses over the entire period.  \n",
    "        net_change = int(row[1]) - previous_net\n",
    "        previous_net = int(row[1])\n",
    "        net_change_list = net_change_list + [net_change]\n",
    "        month_of_change = month_of_change + [row[0]]\n",
    "        \n",
    "        # Calculate the Average Net Change\n",
    "        avg_net_change = round(sum(net_change_list) / len(net_change_list),2) \n",
    "\n",
    "        # Calculate the greatest increase in profits\n",
    "        if net_change > greatest_increase[1]:\n",
    "            greatest_increase[0] = row[0]\n",
    "            greatest_increase[1] = net_change\n",
    "\n",
    "        # Calculate the greatest decrease in losses\n",
    "        if net_change < greatest_decrease[1]:\n",
    "            greatest_decrease[0] = row[0]\n",
    "            greatest_decrease[1] = net_change\n",
    "\n"
   ]
  },
  {
   "cell_type": "code",
   "execution_count": 8,
   "id": "e8c0a0f1-9ea7-466f-b80c-2408c615ca43",
   "metadata": {},
   "outputs": [],
   "source": [
    "# Export the results to text file\n",
    "with open(file_to_output, \"w\") as txt_file:\n",
    "    txt_file.write(f\"Financial Analysis\\n\")\n",
    "    txt_file.write(f\"----------------------------\\n\")\n",
    "    txt_file.write(f\"Total Months: {total_months}\\n\")\n",
    "    txt_file.write(f\"Total: ${total_net}\\n\")\n",
    "    txt_file.write(f\"Average  Change: ${avg_net_change}\\n\")\n",
    "    txt_file.write(f\"Greatest Increase in Profits: {greatest_increase[0]} (${greatest_increase[1]})\\n\")\n",
    "    txt_file.write(f\"Greatest Decrease in Profits: {greatest_decrease[0]} (${greatest_decrease[1]})\\n\")"
   ]
  },
  {
   "cell_type": "code",
   "execution_count": null,
   "id": "cfe27313-095e-464f-ab9f-5d88fc8cde2b",
   "metadata": {},
   "outputs": [],
   "source": []
  }
 ],
 "metadata": {
  "kernelspec": {
   "display_name": "Python 3 (ipykernel)",
   "language": "python",
   "name": "python3"
  },
  "language_info": {
   "codemirror_mode": {
    "name": "ipython",
    "version": 3
   },
   "file_extension": ".py",
   "mimetype": "text/x-python",
   "name": "python",
   "nbconvert_exporter": "python",
   "pygments_lexer": "ipython3",
   "version": "3.9.7"
  }
 },
 "nbformat": 4,
 "nbformat_minor": 5
}
